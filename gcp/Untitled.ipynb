{
 "cells": [
  {
   "cell_type": "code",
   "execution_count": 1,
   "id": "1e0df30e-85c8-4517-aab6-ecec2ab4e68e",
   "metadata": {},
   "outputs": [],
   "source": [
    "import os\n",
    "import urllib.request\n",
    "from concurrent.futures import ThreadPoolExecutor\n",
    "from google.cloud import storage\n",
    "import time"
   ]
  },
  {
   "cell_type": "code",
   "execution_count": 2,
   "id": "25eca713-6b25-428e-89d9-53b9bc1d23a4",
   "metadata": {},
   "outputs": [],
   "source": [
    "BUCKET_NAME = \"nkzoomcamp_hw3_2025\"  "
   ]
  },
  {
   "cell_type": "code",
   "execution_count": 3,
   "id": "a8e1a24a-a0cd-40ed-a001-d8954dcce13c",
   "metadata": {},
   "outputs": [],
   "source": [
    "CREDENTIALS_FILE = \"keys.json\"  \n",
    "client = storage.Client.from_service_account_json(CREDENTIALS_FILE)"
   ]
  },
  {
   "cell_type": "code",
   "execution_count": 4,
   "id": "a3c764f8-608f-459d-a843-468f7d18b686",
   "metadata": {},
   "outputs": [],
   "source": [
    "BASE_URL = \"https://d37ci6vzurychx.cloudfront.net/trip-data/yellow_tripdata_2024-\"\n",
    "MONTHS = [f\"{i:02d}\" for i in range(1, 7)] \n",
    "DOWNLOAD_DIR = \".\""
   ]
  },
  {
   "cell_type": "code",
   "execution_count": 5,
   "id": "c288052e-fcd8-4e72-9304-1f8656c3ca85",
   "metadata": {},
   "outputs": [],
   "source": [
    "CHUNK_SIZE = 8 * 1024 * 1024  \n",
    "\n",
    "os.makedirs(DOWNLOAD_DIR, exist_ok=True)\n",
    "\n",
    "bucket = client.bucket(BUCKET_NAME)"
   ]
  },
  {
   "cell_type": "code",
   "execution_count": 6,
   "id": "2f7b0bfd-1c39-45e9-b617-a4de8d8f89cd",
   "metadata": {},
   "outputs": [
    {
     "name": "stdout",
     "output_type": "stream",
     "text": [
      "Downloading https://d37ci6vzurychx.cloudfront.net/trip-data/yellow_tripdata_2024-01.parquet...\n",
      "Downloading https://d37ci6vzurychx.cloudfront.net/trip-data/yellow_tripdata_2024-02.parquet...\n",
      "Downloading https://d37ci6vzurychx.cloudfront.net/trip-data/yellow_tripdata_2024-03.parquet...\n",
      "Downloading https://d37ci6vzurychx.cloudfront.net/trip-data/yellow_tripdata_2024-04.parquet...\n",
      "Downloaded: ./yellow_tripdata_2024-02.parquet\n",
      "Downloading https://d37ci6vzurychx.cloudfront.net/trip-data/yellow_tripdata_2024-05.parquet...\n",
      "Downloaded: ./yellow_tripdata_2024-01.parquet\n",
      "Downloading https://d37ci6vzurychx.cloudfront.net/trip-data/yellow_tripdata_2024-06.parquet...\n",
      "Downloaded: ./yellow_tripdata_2024-04.parquet\n",
      "Downloaded: ./yellow_tripdata_2024-03.parquet\n",
      "Downloaded: ./yellow_tripdata_2024-06.parquet\n",
      "Downloaded: ./yellow_tripdata_2024-05.parquet\n",
      "Uploading ./yellow_tripdata_2024-01.parquet to nkzoomcamp_hw3_2025 (Attempt 1)...\n",
      "Uploading ./yellow_tripdata_2024-02.parquet to nkzoomcamp_hw3_2025 (Attempt 1)...\n",
      "Uploading ./yellow_tripdata_2024-03.parquet to nkzoomcamp_hw3_2025 (Attempt 1)...\n",
      "Uploading ./yellow_tripdata_2024-04.parquet to nkzoomcamp_hw3_2025 (Attempt 1)...\n",
      "Uploaded: gs://nkzoomcamp_hw3_2025/yellow_tripdata_2024-01.parquet\n",
      "Verification successful for yellow_tripdata_2024-01.parquet\n",
      "Uploading ./yellow_tripdata_2024-05.parquet to nkzoomcamp_hw3_2025 (Attempt 1)...\n",
      "Uploaded: gs://nkzoomcamp_hw3_2025/yellow_tripdata_2024-02.parquet\n",
      "Verification successful for yellow_tripdata_2024-02.parquet\n",
      "Uploading ./yellow_tripdata_2024-06.parquet to nkzoomcamp_hw3_2025 (Attempt 1)...\n",
      "Uploaded: gs://nkzoomcamp_hw3_2025/yellow_tripdata_2024-04.parquet\n",
      "Verification successful for yellow_tripdata_2024-04.parquet\n",
      "Uploaded: gs://nkzoomcamp_hw3_2025/yellow_tripdata_2024-03.parquet\n",
      "Verification successful for yellow_tripdata_2024-03.parquet\n",
      "Uploaded: gs://nkzoomcamp_hw3_2025/yellow_tripdata_2024-05.parquet\n",
      "Uploaded: gs://nkzoomcamp_hw3_2025/yellow_tripdata_2024-06.parquet\n",
      "Verification successful for yellow_tripdata_2024-05.parquet\n",
      "Verification successful for yellow_tripdata_2024-06.parquet\n",
      "All files processed and verified.\n"
     ]
    }
   ],
   "source": [
    "def download_file(month):\n",
    "    url = f\"{BASE_URL}{month}.parquet\"\n",
    "    file_path = os.path.join(DOWNLOAD_DIR, f\"yellow_tripdata_2024-{month}.parquet\")\n",
    "\n",
    "    try:\n",
    "        print(f\"Downloading {url}...\")\n",
    "        urllib.request.urlretrieve(url, file_path)\n",
    "        print(f\"Downloaded: {file_path}\")\n",
    "        return file_path\n",
    "    except Exception as e:\n",
    "        print(f\"Failed to download {url}: {e}\")\n",
    "        return None\n",
    "\n",
    "\n",
    "def verify_gcs_upload(blob_name):\n",
    "    return storage.Blob(bucket=bucket, name=blob_name).exists(client)\n",
    "\n",
    "\n",
    "def upload_to_gcs(file_path, max_retries=3):\n",
    "    blob_name = os.path.basename(file_path)\n",
    "    blob = bucket.blob(blob_name)\n",
    "    blob.chunk_size = CHUNK_SIZE  \n",
    "    \n",
    "    for attempt in range(max_retries):\n",
    "        try:\n",
    "            print(f\"Uploading {file_path} to {BUCKET_NAME} (Attempt {attempt + 1})...\")\n",
    "            blob.upload_from_filename(file_path)\n",
    "            print(f\"Uploaded: gs://{BUCKET_NAME}/{blob_name}\")\n",
    "            \n",
    "            if verify_gcs_upload(blob_name):\n",
    "                print(f\"Verification successful for {blob_name}\")\n",
    "                return\n",
    "            else:\n",
    "                print(f\"Verification failed for {blob_name}, retrying...\")\n",
    "        except Exception as e:\n",
    "            print(f\"Failed to upload {file_path} to GCS: {e}\")\n",
    "        \n",
    "        time.sleep(5)  \n",
    "    \n",
    "    print(f\"Giving up on {file_path} after {max_retries} attempts.\")\n",
    "\n",
    "\n",
    "if __name__ == \"__main__\":\n",
    "    with ThreadPoolExecutor(max_workers=4) as executor:\n",
    "        file_paths = list(executor.map(download_file, MONTHS))\n",
    "\n",
    "    with ThreadPoolExecutor(max_workers=4) as executor:\n",
    "        executor.map(upload_to_gcs, filter(None, file_paths))  # Remove None values\n",
    "\n",
    "    print(\"All files processed and verified.\")"
   ]
  },
  {
   "cell_type": "code",
   "execution_count": null,
   "id": "f6056314-5d33-4828-b715-1d63e27105c1",
   "metadata": {},
   "outputs": [],
   "source": []
  }
 ],
 "metadata": {
  "kernelspec": {
   "display_name": "Python 3 (ipykernel)",
   "language": "python",
   "name": "python3"
  },
  "language_info": {
   "codemirror_mode": {
    "name": "ipython",
    "version": 3
   },
   "file_extension": ".py",
   "mimetype": "text/x-python",
   "name": "python",
   "nbconvert_exporter": "python",
   "pygments_lexer": "ipython3",
   "version": "3.12.1"
  }
 },
 "nbformat": 4,
 "nbformat_minor": 5
}
